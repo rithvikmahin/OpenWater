{
 "cells": [
  {
   "cell_type": "code",
   "execution_count": 1,
   "metadata": {},
   "outputs": [
    {
     "data": {
      "text/plain": [
       "<firebase_admin.App at 0x20326a0f088>"
      ]
     },
     "execution_count": 1,
     "metadata": {},
     "output_type": "execute_result"
    }
   ],
   "source": [
    "import firebase_admin\n",
    "from firebase_admin import credentials\n",
    "\n",
    "cred = credentials.Certificate('serviceAccountKey.json')\n",
    "firebase_admin.initialize_app(cred, {\n",
    "    'databaseURL' : 'https://clinque-419f2.firebaseio.com/'\n",
    "})"
   ]
  },
  {
   "cell_type": "code",
   "execution_count": 2,
   "metadata": {},
   "outputs": [],
   "source": [
    "from firebase_admin import db\n",
    "\n",
    "ref=db.reference()"
   ]
  },
  {
   "cell_type": "code",
   "execution_count": 3,
   "metadata": {},
   "outputs": [],
   "source": [
    "student_ref=ref.child('students')\n",
    "\n",
    "student_ref.update({\n",
    "    's3' : {\n",
    "            'first_name' : 'A',\n",
    "            'last_name' : 'M',\n",
    "            'graduating' : 2020,\n",
    "            'field_of_study' : 'Computer Science',\n",
    "            'university' : 'University of Southern California',\n",
    "            'university_email' : 'am@usc.edu',\n",
    "            'current_city' : 'Los Angeles',\n",
    "            'time_zone' : 'America/Los Angeles',\n",
    "            'password' : 'xRnuES6TH'\n",
    "        }\n",
    "    }\n",
    ")"
   ]
  },
  {
   "cell_type": "code",
   "execution_count": 11,
   "metadata": {},
   "outputs": [],
   "source": [
    "data_ref=ref.child('student-course-pairs')\n",
    "\n",
    "data_ref.update({\n",
    "    '3' : {\n",
    "        'sid' : 's2',\n",
    "        'course' : 'Data Structures',\n",
    "        'semester' : 'Fall',\n",
    "        'year' : 2019,\n",
    "        'mentor_willing' : True\n",
    "    },\n",
    "    '4' : {\n",
    "        'sid' : 's2',\n",
    "        'course' : 'Object-Oriented Programming',\n",
    "        'semester' : 'Spring',\n",
    "        'year' : 2020,\n",
    "        'mentor_willing' : False\n",
    "    },\n",
    "    '5' : {\n",
    "        'sid' : 's2',\n",
    "        'course' : 'Computer Networks',\n",
    "        'semester' : 'Summer',\n",
    "        'year' : 2020,\n",
    "        'mentor_willing' : True\n",
    "    }\n",
    "})"
   ]
  },
  {
   "cell_type": "code",
   "execution_count": 13,
   "metadata": {},
   "outputs": [
    {
     "name": "stdout",
     "output_type": "stream",
     "text": [
      "[{'course': 'Data Structures', 'mentor_willing': True, 'semester': 'Fall', 'sid': 's1', 'year': 2019}, {'course': 'Object-Oriented Programming', 'mentor_willing': False, 'semester': 'Spring', 'sid': 's1', 'year': 2020}, {'course': 'Computer Networks', 'mentor_willing': False, 'semester': 'Fall', 'sid': 's1', 'year': 2020}, {'course': 'Data Structures', 'mentor_willing': True, 'semester': 'Fall', 'sid': 's2', 'year': 2019}, {'course': 'Object-Oriented Programming', 'mentor_willing': False, 'semester': 'Spring', 'sid': 's2', 'year': 2020}, {'course': 'Computer Networks', 'mentor_willing': True, 'semester': 'Summer', 'sid': 's2', 'year': 2020}]\n"
     ]
    }
   ],
   "source": [
    "print(data_ref.get())"
   ]
  },
  {
   "cell_type": "code",
   "execution_count": null,
   "metadata": {},
   "outputs": [],
   "source": []
  }
 ],
 "metadata": {
  "kernelspec": {
   "display_name": "Python 3",
   "language": "python",
   "name": "python3"
  },
  "language_info": {
   "codemirror_mode": {
    "name": "ipython",
    "version": 3
   },
   "file_extension": ".py",
   "mimetype": "text/x-python",
   "name": "python",
   "nbconvert_exporter": "python",
   "pygments_lexer": "ipython3",
   "version": "3.7.4"
  }
 },
 "nbformat": 4,
 "nbformat_minor": 2
}
