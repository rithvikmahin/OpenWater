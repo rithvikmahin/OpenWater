{
 "cells": [
  {
   "cell_type": "code",
   "execution_count": 1,
   "metadata": {},
   "outputs": [
    {
     "data": {
      "text/plain": [
       "<firebase_admin.App at 0x16d2c4ae388>"
      ]
     },
     "execution_count": 1,
     "metadata": {},
     "output_type": "execute_result"
    }
   ],
   "source": [
    "import firebase_admin\n",
    "from firebase_admin import credentials\n",
    "\n",
    "cred = credentials.Certificate('serviceAccountKey.json')\n",
    "firebase_admin.initialize_app(cred, {\n",
    "    'databaseURL' : 'https://clinque-419f2.firebaseio.com/'\n",
    "})"
   ]
  },
  {
   "cell_type": "code",
   "execution_count": 2,
   "metadata": {},
   "outputs": [],
   "source": [
    "from firebase_admin import db\n",
    "ref=db.reference()\n",
    "snapshot=ref.get()"
   ]
  },
  {
   "cell_type": "code",
   "execution_count": 3,
   "metadata": {},
   "outputs": [],
   "source": [
    "student_ref=ref.child('students')\n",
    "data_ref=ref.child('student-course-pairs')\n",
    "#mentee_ref=ref.child('mentees')\n",
    "#mentor_ref=ref.child('mentors')\n",
    "match_ref=ref.child('matches')\n"
   ]
  },
  {
   "cell_type": "code",
   "execution_count": 5,
   "metadata": {},
   "outputs": [
    {
     "data": {
      "text/plain": [
       "\"\\nsnap_mentee=mentee_ref.get()\\nprint(snap_mentee)\\n\\nsnap_student=student_ref.get()\\n\\nfor key, val in snap_mentee.items():\\n    \\n    sid_mentee=val['sid']\\n    course_mentee=val['course']\\n    uni_mentee=student_ref.get(sid_mentee)\\n    print(uni_mentee)\\n    for key2,val2 in snap_student.items():\\n        if key2==sid_mentee:\\n            uni_mentee=val2['university']\\n            \\n    snap_mentor=mentor_ref.order_by_child('course').get()\\n    print(snap_mentor)\\n    \\n    for val3 in snap_mentor:\\n        \\n        same_uni=False\\n        sid_mentor=val3['sid']\\n        course_mentor=val3['course']\\n\\n        for key4,val4 in snap_student.items():\\n            if key4==sid_mentor:\\n                uni_mentor=val4['university']\\n                \\n        if course_mentee==course_mentor:\\n            if uni_mentor==uni_mentee:\\n                same_uni=True\\n            new_match=match_ref.push({\\n                'mentee':sid_mentee,\\n                'mentor':sid_mentor,\\n                'course':course_mentee,\\n                'same_uni':same_uni\\n            })\\n            \""
      ]
     },
     "execution_count": 5,
     "metadata": {},
     "output_type": "execute_result"
    }
   ],
   "source": [
    "'''\n",
    "snap_mentee=mentee_ref.get()\n",
    "print(snap_mentee)\n",
    "\n",
    "snap_student=student_ref.get()\n",
    "\n",
    "for key, val in snap_mentee.items():\n",
    "    \n",
    "    sid_mentee=val['sid']\n",
    "    course_mentee=val['course']\n",
    "    uni_mentee=student_ref.get(sid_mentee)\n",
    "    print(uni_mentee)\n",
    "    for key2,val2 in snap_student.items():\n",
    "        if key2==sid_mentee:\n",
    "            uni_mentee=val2['university']\n",
    "            \n",
    "    snap_mentor=mentor_ref.order_by_child('course').get()\n",
    "    print(snap_mentor)\n",
    "    \n",
    "    for val3 in snap_mentor:\n",
    "        \n",
    "        same_uni=False\n",
    "        sid_mentor=val3['sid']\n",
    "        course_mentor=val3['course']\n",
    "\n",
    "        for key4,val4 in snap_student.items():\n",
    "            if key4==sid_mentor:\n",
    "                uni_mentor=val4['university']\n",
    "                \n",
    "        if course_mentee==course_mentor:\n",
    "            if uni_mentor==uni_mentee:\n",
    "                same_uni=True\n",
    "            new_match=match_ref.push({\n",
    "                'mentee':sid_mentee,\n",
    "                'mentor':sid_mentor,\n",
    "                'course':course_mentee,\n",
    "                'same_uni':same_uni\n",
    "            })\n",
    "            '''"
   ]
  },
  {
   "cell_type": "code",
   "execution_count": 8,
   "metadata": {},
   "outputs": [],
   "source": [
    "def findmatch(course):\n",
    "    mentors=[]\n",
    "    for row in data_ref.get():\n",
    "        if row['course']==course:\n",
    "            if not row['current']:\n",
    "                if row['mentor_willing']:\n",
    "                    mentors.append(row['sid'])\n",
    "    return(mentors)"
   ]
  },
  {
   "cell_type": "code",
   "execution_count": 24,
   "metadata": {},
   "outputs": [
    {
     "name": "stdout",
     "output_type": "stream",
     "text": [
      "s1\n",
      "{'current_city': 'Tempe', 'field_of_study': 'Computer Science', 'first_name': 'Jane', 'graduating': 2021, 'last_name': 'Doe', 'password': 'xRnuES6TH', 'time_zone': 'America/Phoenix', 'university': 'Arizona State University', 'university_email': 'janedoe@asu.edu'}\n",
      "Arizona State University\n",
      "['s2']\n",
      "s2\n",
      "{'current_city': 'Los Angeles', 'field_of_study': 'Computer Science', 'first_name': 'John', 'graduating': 2021, 'last_name': 'Doe', 'password': 'xRnuES6TH', 'time_zone': 'America/Los Angeles', 'university': 'University of Southern California', 'university_email': 'johndoe@usc.edu'}\n",
      "University of Southern California\n"
     ]
    }
   ],
   "source": [
    "for entry in data_ref.get():\n",
    "    if entry['current']:\n",
    "        matchfound=False\n",
    "        sid_mentee=entry['sid']\n",
    "        print(sid_mentee)\n",
    "        mentee_ref=student_ref.child(sid_mentee)\n",
    "        print(mentee_ref.get())\n",
    "        uni_mentee=mentee_ref.child('university')\n",
    "        print(uni_mentee.get())\n",
    "        mentors=findmatch(entry['course'])\n",
    "        print(mentors)\n",
    "        for mentor in mentors:\n",
    "            same_uni=False\n",
    "            print(mentor)\n",
    "            mentor_ref=student_ref.child(mentor)\n",
    "            print(mentor_ref.get())\n",
    "            uni_mentor=mentor_ref.child('university')\n",
    "            print(uni_mentor.get())\n",
    "            if uni_mentee.get()==uni_mentor.get():\n",
    "                same_uni=True\n",
    "            new_match=match_ref.push({\n",
    "                'mentee':entry['sid'],\n",
    "                'mentor':mentor,\n",
    "                'course':entry['course'],\n",
    "                'same_uni':same_uni\n",
    "            })\n",
    "            matchfound=True\n",
    "        if not matchfound:\n",
    "            print('No mentor found')"
   ]
  },
  {
   "cell_type": "code",
   "execution_count": null,
   "metadata": {},
   "outputs": [],
   "source": []
  }
 ],
 "metadata": {
  "kernelspec": {
   "display_name": "Python 3",
   "language": "python",
   "name": "python3"
  },
  "language_info": {
   "codemirror_mode": {
    "name": "ipython",
    "version": 3
   },
   "file_extension": ".py",
   "mimetype": "text/x-python",
   "name": "python",
   "nbconvert_exporter": "python",
   "pygments_lexer": "ipython3",
   "version": "3.7.4"
  }
 },
 "nbformat": 4,
 "nbformat_minor": 2
}
