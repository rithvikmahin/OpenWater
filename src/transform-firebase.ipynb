{
 "cells": [
  {
   "cell_type": "code",
   "execution_count": 1,
   "metadata": {},
   "outputs": [
    {
     "data": {
      "text/plain": [
       "<firebase_admin.App at 0x1411ebd1248>"
      ]
     },
     "execution_count": 1,
     "metadata": {},
     "output_type": "execute_result"
    }
   ],
   "source": [
    "import firebase_admin\n",
    "from firebase_admin import credentials\n",
    "\n",
    "cred = credentials.Certificate('serviceAccountKey.json')\n",
    "firebase_admin.initialize_app(cred, {\n",
    "    'databaseURL' : 'https://clinque-419f2.firebaseio.com/'\n",
    "})"
   ]
  },
  {
   "cell_type": "code",
   "execution_count": 2,
   "metadata": {},
   "outputs": [],
   "source": [
    "from firebase_admin import db\n",
    "\n",
    "ref=db.reference()\n",
    "student_ref=ref.child('students')\n",
    "data_ref=ref.child('student-course-pairs')"
   ]
  },
  {
   "cell_type": "code",
   "execution_count": 3,
   "metadata": {},
   "outputs": [
    {
     "name": "stdout",
     "output_type": "stream",
     "text": [
      "2020\n"
     ]
    }
   ],
   "source": [
    "snapshot=data_ref.order_by_child('year').limit_to_last(1).get()\n",
    "for key, val in snapshot.items():\n",
    "    keymaxyear=key\n",
    "    maxyear=val['year']\n",
    "print(maxyear)"
   ]
  },
  {
   "cell_type": "code",
   "execution_count": 4,
   "metadata": {},
   "outputs": [
    {
     "name": "stdout",
     "output_type": "stream",
     "text": [
      "Fall\n"
     ]
    }
   ],
   "source": [
    "sems={'Spring':0,'Summer':1,'Fall':2}\n",
    "currentsem='Spring'\n",
    "snapshot=data_ref.order_by_child('year').start_at(maxyear).get()\n",
    "\n",
    "for key, val in snapshot.items():\n",
    "    semester=val['semester']\n",
    "    if sems[semester] > sems[currentsem]:\n",
    "        currentsem=semester\n",
    "print(currentsem)"
   ]
  },
  {
   "cell_type": "code",
   "execution_count": 5,
   "metadata": {},
   "outputs": [],
   "source": [
    "def ifcur(year,sem):\n",
    "    if year==maxyear:\n",
    "        if sem==currentsem:\n",
    "            return True\n",
    "    return False"
   ]
  },
  {
   "cell_type": "code",
   "execution_count": 6,
   "metadata": {},
   "outputs": [],
   "source": [
    "snapshot=data_ref.order_by_child('year').end_at(maxyear).get()\n",
    "for key, val in snapshot.items():\n",
    "    key_ref=data_ref.child(key)\n",
    "    if ifcur(val['year'],val['semester']):\n",
    "        key_ref.update({\n",
    "            'current':True\n",
    "        })\n",
    "    else:\n",
    "        key_ref.update({\n",
    "            'current':False\n",
    "        })"
   ]
  },
  {
   "cell_type": "code",
   "execution_count": 7,
   "metadata": {},
   "outputs": [],
   "source": [
    "mentee_ref=ref.child('mentees')\n",
    "mentor_ref=ref.child('mentors')"
   ]
  },
  {
   "cell_type": "code",
   "execution_count": 10,
   "metadata": {},
   "outputs": [
    {
     "name": "stdout",
     "output_type": "stream",
     "text": [
      "([{'course': 'Data Structures', 'sid': 's1'}, {'course': 'Object-Oriented Programming', 'sid': 's1'}, None, {'course': 'Data Structures', 'sid': 's2'}, None, {'course': 'Computer Networks', 'sid': 's2'}], '/g3KJgCb/iBRz1Jrq7BpJqF26Cc=')\n",
      "([{'course': 'Data Structures', 'sid': 's1'}, {'course': 'Object-Oriented Programming', 'sid': 's1'}, None, {'course': 'Data Structures', 'sid': 's2'}, None, {'course': 'Computer Networks', 'sid': 's2'}], '/g3KJgCb/iBRz1Jrq7BpJqF26Cc=')\n",
      "([{'course': 'Data Structures', 'sid': 's1'}, {'course': 'Object-Oriented Programming', 'sid': 's1'}, None, {'course': 'Data Structures', 'sid': 's2'}, None, {'course': 'Computer Networks', 'sid': 's2'}], '/g3KJgCb/iBRz1Jrq7BpJqF26Cc=')\n"
     ]
    }
   ],
   "source": [
    "for key,val in snapshot.items():\n",
    "    if val['current']:\n",
    "        mentee_ref.update({\n",
    "            key:{\n",
    "                'sid':val['sid'],\n",
    "                'course':val['course']\n",
    "            }\n",
    "        })\n",
    "    elif val['mentor_willing']:\n",
    "        mentor_ref.update({\n",
    "            key:{\n",
    "                'sid':val['sid'],\n",
    "                'course':val['course']\n",
    "            }\n",
    "        })\n",
    "        print(mentor_ref.get(key))"
   ]
  },
  {
   "cell_type": "code",
   "execution_count": null,
   "metadata": {},
   "outputs": [],
   "source": []
  },
  {
   "cell_type": "code",
   "execution_count": null,
   "metadata": {},
   "outputs": [],
   "source": []
  }
 ],
 "metadata": {
  "kernelspec": {
   "display_name": "Python 3",
   "language": "python",
   "name": "python3"
  },
  "language_info": {
   "codemirror_mode": {
    "name": "ipython",
    "version": 3
   },
   "file_extension": ".py",
   "mimetype": "text/x-python",
   "name": "python",
   "nbconvert_exporter": "python",
   "pygments_lexer": "ipython3",
   "version": "3.7.4"
  }
 },
 "nbformat": 4,
 "nbformat_minor": 2
}
